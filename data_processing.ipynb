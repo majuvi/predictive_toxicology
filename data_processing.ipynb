{
 "cells": [
  {
   "cell_type": "code",
   "execution_count": 1,
   "id": "17c9a7c2",
   "metadata": {},
   "outputs": [],
   "source": [
    "# Author: Markus Viljanen"
   ]
  },
  {
   "cell_type": "code",
   "execution_count": 1,
   "id": "07465c0c",
   "metadata": {},
   "outputs": [],
   "source": [
    "import numpy as np\n",
    "import pandas as pd"
   ]
  },
  {
   "cell_type": "code",
   "execution_count": 2,
   "id": "f22a25fd",
   "metadata": {},
   "outputs": [],
   "source": [
    "df_tox = pd.read_csv('MIGRATION_data_curation/ECOTOX_MIGRATION_DATASET_2022-11-15.csv')\n",
    "df_tox.rename(columns={'latin_name':'Species', 'obs_duration_mean_standardized_d': 'Duration_Value', \n",
    "                       'conc1_mean_standardized_mgL': 'Value_Value'}, inplace=True)\n",
    "df_tox = df_tox[['Species', 'SMILES', 'common_name', 'chemical_name', 'Duration_Value', 'Value_Value']]"
   ]
  },
  {
   "cell_type": "code",
   "execution_count": 3,
   "id": "0b170aee",
   "metadata": {},
   "outputs": [
    {
     "data": {
      "text/html": [
       "<div>\n",
       "<style scoped>\n",
       "    .dataframe tbody tr th:only-of-type {\n",
       "        vertical-align: middle;\n",
       "    }\n",
       "\n",
       "    .dataframe tbody tr th {\n",
       "        vertical-align: top;\n",
       "    }\n",
       "\n",
       "    .dataframe thead th {\n",
       "        text-align: right;\n",
       "    }\n",
       "</style>\n",
       "<table border=\"1\" class=\"dataframe\">\n",
       "  <thead>\n",
       "    <tr style=\"text-align: right;\">\n",
       "      <th></th>\n",
       "      <th>Species</th>\n",
       "      <th>SMILES</th>\n",
       "      <th>common_name</th>\n",
       "      <th>chemical_name</th>\n",
       "      <th>Duration_Value</th>\n",
       "      <th>Value_Value</th>\n",
       "    </tr>\n",
       "  </thead>\n",
       "  <tbody>\n",
       "    <tr>\n",
       "      <th>0</th>\n",
       "      <td>Morone saxatilis</td>\n",
       "      <td>C=O</td>\n",
       "      <td>Striped Bass</td>\n",
       "      <td>Formaldehyde</td>\n",
       "      <td>4.000000</td>\n",
       "      <td>56.00</td>\n",
       "    </tr>\n",
       "    <tr>\n",
       "      <th>1</th>\n",
       "      <td>Lepomis cyanellus</td>\n",
       "      <td>C=O</td>\n",
       "      <td>Green Sunfish</td>\n",
       "      <td>Formaldehyde</td>\n",
       "      <td>4.000000</td>\n",
       "      <td>173.00</td>\n",
       "    </tr>\n",
       "    <tr>\n",
       "      <th>2</th>\n",
       "      <td>Cristatella mucedo</td>\n",
       "      <td>C=O</td>\n",
       "      <td>Bryozoan</td>\n",
       "      <td>Formaldehyde</td>\n",
       "      <td>0.187500</td>\n",
       "      <td>1.38</td>\n",
       "    </tr>\n",
       "    <tr>\n",
       "      <th>3</th>\n",
       "      <td>Mystus vittatus</td>\n",
       "      <td>C=O</td>\n",
       "      <td>Striped Catfish</td>\n",
       "      <td>Formaldehyde</td>\n",
       "      <td>4.000000</td>\n",
       "      <td>70.00</td>\n",
       "    </tr>\n",
       "    <tr>\n",
       "      <th>4</th>\n",
       "      <td>Sphoeroides annulatus</td>\n",
       "      <td>C=O</td>\n",
       "      <td>Bullseye Puffer</td>\n",
       "      <td>Formaldehyde</td>\n",
       "      <td>0.041667</td>\n",
       "      <td>972.00</td>\n",
       "    </tr>\n",
       "  </tbody>\n",
       "</table>\n",
       "</div>"
      ],
      "text/plain": [
       "                 Species SMILES      common_name chemical_name  \\\n",
       "0       Morone saxatilis    C=O     Striped Bass  Formaldehyde   \n",
       "1      Lepomis cyanellus    C=O    Green Sunfish  Formaldehyde   \n",
       "2     Cristatella mucedo    C=O         Bryozoan  Formaldehyde   \n",
       "3        Mystus vittatus    C=O  Striped Catfish  Formaldehyde   \n",
       "4  Sphoeroides annulatus    C=O  Bullseye Puffer  Formaldehyde   \n",
       "\n",
       "   Duration_Value  Value_Value  \n",
       "0        4.000000        56.00  \n",
       "1        4.000000       173.00  \n",
       "2        0.187500         1.38  \n",
       "3        4.000000        70.00  \n",
       "4        0.041667       972.00  "
      ]
     },
     "execution_count": 3,
     "metadata": {},
     "output_type": "execute_result"
    }
   ],
   "source": [
    "df_tox.head()"
   ]
  },
  {
   "cell_type": "code",
   "execution_count": 4,
   "id": "1a45b0f9",
   "metadata": {},
   "outputs": [],
   "source": [
    "# Should have been kekulized by the earlier standardization, 21 observations\n",
    "df_tox.loc[df_tox['SMILES'] == 'CCN(CC)c1cc2oc3cc(ccc3c(c2cc1)C1C=CC=CC=1C(O)=O)N(CC)CC',\n",
    "          'SMILES'] = 'CCN(CC)C1=CC2=[O+]C3=C(C=CC(=C3)N(CC)CC)C(=C2C=C1)C1=C(C=CC=C1)C(O)=O'"
   ]
  },
  {
   "cell_type": "code",
   "execution_count": 5,
   "id": "62c6273f",
   "metadata": {},
   "outputs": [
    {
     "data": {
      "text/plain": [
       "((52272, 6), (1506,), (2431,))"
      ]
     },
     "execution_count": 5,
     "metadata": {},
     "output_type": "execute_result"
    }
   ],
   "source": [
    "df_tox.shape, df_tox['Species'].unique().shape, df_tox['SMILES'].unique().shape"
   ]
  },
  {
   "cell_type": "markdown",
   "id": "2a6d2801",
   "metadata": {},
   "source": [
    "### Add categorical duration, log10 value"
   ]
  },
  {
   "cell_type": "code",
   "execution_count": 6,
   "id": "0ffcbd8a",
   "metadata": {},
   "outputs": [],
   "source": [
    "# Categorical Duration feature\n",
    "temp = df_tox['Duration_Value'].value_counts().sort_index()\n",
    "breaks = np.unique(np.sort([0.0] + list(temp.index[temp >= 200]) + [df_tox['Duration_Value'].max()]))\n",
    "df_tox['Duration.Cat'] = pd.cut(df_tox['Duration_Value'], breaks)"
   ]
  },
  {
   "cell_type": "code",
   "execution_count": 7,
   "id": "dd8bc3fe",
   "metadata": {},
   "outputs": [
    {
     "data": {
      "text/plain": [
       "Float64Index([0.0416666666666667, 0.125, 0.25, 0.5, 1.0, 2.0, 3.0, 4.0, 5.0,\n",
       "              7.0],\n",
       "             dtype='float64')"
      ]
     },
     "execution_count": 7,
     "metadata": {},
     "output_type": "execute_result"
    }
   ],
   "source": [
    "temp.index[temp >= 200]"
   ]
  },
  {
   "cell_type": "code",
   "execution_count": 8,
   "id": "9469ea76",
   "metadata": {},
   "outputs": [
    {
     "data": {
      "text/plain": [
       "(0.0, 0.0417]        314\n",
       "(0.0417, 0.125]      618\n",
       "(0.125, 0.25]        810\n",
       "(0.25, 0.5]          634\n",
       "(0.5, 1.0]         14949\n",
       "(1.0, 2.0]         10762\n",
       "(2.0, 3.0]          2857\n",
       "(3.0, 4.0]         20324\n",
       "(4.0, 5.0]           291\n",
       "(5.0, 7.0]           713\n",
       "Name: Duration.Cat, dtype: int64"
      ]
     },
     "execution_count": 8,
     "metadata": {},
     "output_type": "execute_result"
    }
   ],
   "source": [
    "df_tox['Duration.Cat'].value_counts().sort_index()"
   ]
  },
  {
   "cell_type": "code",
   "execution_count": 9,
   "id": "ae248569",
   "metadata": {},
   "outputs": [],
   "source": [
    "df_tox['Value_Log10'] = np.log10(df_tox['Value_Value'])"
   ]
  },
  {
   "cell_type": "markdown",
   "id": "510479a4",
   "metadata": {},
   "source": [
    "### Get chemical fingerprints"
   ]
  },
  {
   "cell_type": "code",
   "execution_count": 10,
   "id": "571a2e25",
   "metadata": {},
   "outputs": [],
   "source": [
    "from rdkit import Chem\n",
    "from rdkit.Chem import AllChem\n",
    "from rdkit.Chem import DataStructs\n",
    "from rdkit.Chem import rdFingerprintGenerator"
   ]
  },
  {
   "cell_type": "code",
   "execution_count": 11,
   "id": "1bdcc236",
   "metadata": {},
   "outputs": [],
   "source": [
    "fingerprints = {}\n",
    "for s in df_tox['SMILES'].unique():\n",
    "    m = Chem.MolFromSmiles(s)\n",
    "    if m is not None:\n",
    "        arr = np.zeros((0,), dtype=np.int8) #count vector\n",
    "        DataStructs.ConvertToNumpyArray(AllChem.GetHashedMorganFingerprint(m,2,nBits = 1024),arr)\n",
    "        fingerprints[s] = arr\n",
    "    else:\n",
    "        fingerprints[s] = np.zeros(1024, dtype=np.int8)"
   ]
  },
  {
   "cell_type": "code",
   "execution_count": 12,
   "id": "06afda80",
   "metadata": {},
   "outputs": [
    {
     "data": {
      "text/html": [
       "<div>\n",
       "<style scoped>\n",
       "    .dataframe tbody tr th:only-of-type {\n",
       "        vertical-align: middle;\n",
       "    }\n",
       "\n",
       "    .dataframe tbody tr th {\n",
       "        vertical-align: top;\n",
       "    }\n",
       "\n",
       "    .dataframe thead th {\n",
       "        text-align: right;\n",
       "    }\n",
       "</style>\n",
       "<table border=\"1\" class=\"dataframe\">\n",
       "  <thead>\n",
       "    <tr style=\"text-align: right;\">\n",
       "      <th></th>\n",
       "      <th>SMILES</th>\n",
       "      <th>fp_0</th>\n",
       "      <th>fp_1</th>\n",
       "      <th>fp_2</th>\n",
       "      <th>fp_3</th>\n",
       "      <th>fp_4</th>\n",
       "      <th>fp_5</th>\n",
       "      <th>fp_6</th>\n",
       "      <th>fp_7</th>\n",
       "      <th>fp_8</th>\n",
       "      <th>...</th>\n",
       "      <th>fp_1014</th>\n",
       "      <th>fp_1015</th>\n",
       "      <th>fp_1016</th>\n",
       "      <th>fp_1017</th>\n",
       "      <th>fp_1018</th>\n",
       "      <th>fp_1019</th>\n",
       "      <th>fp_1020</th>\n",
       "      <th>fp_1021</th>\n",
       "      <th>fp_1022</th>\n",
       "      <th>fp_1023</th>\n",
       "    </tr>\n",
       "  </thead>\n",
       "  <tbody>\n",
       "    <tr>\n",
       "      <th>0</th>\n",
       "      <td>C=O</td>\n",
       "      <td>0</td>\n",
       "      <td>0</td>\n",
       "      <td>0</td>\n",
       "      <td>0</td>\n",
       "      <td>0</td>\n",
       "      <td>0</td>\n",
       "      <td>0</td>\n",
       "      <td>0</td>\n",
       "      <td>0</td>\n",
       "      <td>...</td>\n",
       "      <td>0</td>\n",
       "      <td>0</td>\n",
       "      <td>0</td>\n",
       "      <td>0</td>\n",
       "      <td>0</td>\n",
       "      <td>0</td>\n",
       "      <td>0</td>\n",
       "      <td>0</td>\n",
       "      <td>0</td>\n",
       "      <td>0</td>\n",
       "    </tr>\n",
       "    <tr>\n",
       "      <th>1</th>\n",
       "      <td>CC1CC2C3CCC4=CC(=O)C=CC4(C)C3(F)C(O)CC2(C)C1(O...</td>\n",
       "      <td>0</td>\n",
       "      <td>0</td>\n",
       "      <td>0</td>\n",
       "      <td>0</td>\n",
       "      <td>0</td>\n",
       "      <td>0</td>\n",
       "      <td>0</td>\n",
       "      <td>0</td>\n",
       "      <td>0</td>\n",
       "      <td>...</td>\n",
       "      <td>0</td>\n",
       "      <td>0</td>\n",
       "      <td>0</td>\n",
       "      <td>0</td>\n",
       "      <td>0</td>\n",
       "      <td>4</td>\n",
       "      <td>1</td>\n",
       "      <td>0</td>\n",
       "      <td>0</td>\n",
       "      <td>0</td>\n",
       "    </tr>\n",
       "    <tr>\n",
       "      <th>2</th>\n",
       "      <td>CCC1(C2C=CC=CC=2)C(=O)NC(=O)NC1=O</td>\n",
       "      <td>0</td>\n",
       "      <td>0</td>\n",
       "      <td>0</td>\n",
       "      <td>0</td>\n",
       "      <td>0</td>\n",
       "      <td>0</td>\n",
       "      <td>0</td>\n",
       "      <td>0</td>\n",
       "      <td>0</td>\n",
       "      <td>...</td>\n",
       "      <td>0</td>\n",
       "      <td>0</td>\n",
       "      <td>0</td>\n",
       "      <td>0</td>\n",
       "      <td>0</td>\n",
       "      <td>0</td>\n",
       "      <td>0</td>\n",
       "      <td>0</td>\n",
       "      <td>0</td>\n",
       "      <td>0</td>\n",
       "    </tr>\n",
       "    <tr>\n",
       "      <th>3</th>\n",
       "      <td>O=P1(NCCCO1)N(CCCl)CCCl</td>\n",
       "      <td>0</td>\n",
       "      <td>0</td>\n",
       "      <td>0</td>\n",
       "      <td>0</td>\n",
       "      <td>3</td>\n",
       "      <td>0</td>\n",
       "      <td>0</td>\n",
       "      <td>0</td>\n",
       "      <td>0</td>\n",
       "      <td>...</td>\n",
       "      <td>0</td>\n",
       "      <td>0</td>\n",
       "      <td>0</td>\n",
       "      <td>0</td>\n",
       "      <td>0</td>\n",
       "      <td>0</td>\n",
       "      <td>0</td>\n",
       "      <td>0</td>\n",
       "      <td>0</td>\n",
       "      <td>0</td>\n",
       "    </tr>\n",
       "    <tr>\n",
       "      <th>4</th>\n",
       "      <td>CC(O)C(O)=O</td>\n",
       "      <td>0</td>\n",
       "      <td>1</td>\n",
       "      <td>0</td>\n",
       "      <td>0</td>\n",
       "      <td>0</td>\n",
       "      <td>0</td>\n",
       "      <td>0</td>\n",
       "      <td>0</td>\n",
       "      <td>0</td>\n",
       "      <td>...</td>\n",
       "      <td>0</td>\n",
       "      <td>0</td>\n",
       "      <td>0</td>\n",
       "      <td>0</td>\n",
       "      <td>0</td>\n",
       "      <td>0</td>\n",
       "      <td>0</td>\n",
       "      <td>0</td>\n",
       "      <td>0</td>\n",
       "      <td>0</td>\n",
       "    </tr>\n",
       "    <tr>\n",
       "      <th>...</th>\n",
       "      <td>...</td>\n",
       "      <td>...</td>\n",
       "      <td>...</td>\n",
       "      <td>...</td>\n",
       "      <td>...</td>\n",
       "      <td>...</td>\n",
       "      <td>...</td>\n",
       "      <td>...</td>\n",
       "      <td>...</td>\n",
       "      <td>...</td>\n",
       "      <td>...</td>\n",
       "      <td>...</td>\n",
       "      <td>...</td>\n",
       "      <td>...</td>\n",
       "      <td>...</td>\n",
       "      <td>...</td>\n",
       "      <td>...</td>\n",
       "      <td>...</td>\n",
       "      <td>...</td>\n",
       "      <td>...</td>\n",
       "      <td>...</td>\n",
       "    </tr>\n",
       "    <tr>\n",
       "      <th>2426</th>\n",
       "      <td>CC(C)C1C2CCC1C1C(=CC=CC=12)N=C(O)C1=CN(C)N=C1C...</td>\n",
       "      <td>0</td>\n",
       "      <td>2</td>\n",
       "      <td>0</td>\n",
       "      <td>1</td>\n",
       "      <td>0</td>\n",
       "      <td>0</td>\n",
       "      <td>0</td>\n",
       "      <td>0</td>\n",
       "      <td>0</td>\n",
       "      <td>...</td>\n",
       "      <td>0</td>\n",
       "      <td>0</td>\n",
       "      <td>0</td>\n",
       "      <td>0</td>\n",
       "      <td>0</td>\n",
       "      <td>3</td>\n",
       "      <td>0</td>\n",
       "      <td>0</td>\n",
       "      <td>0</td>\n",
       "      <td>0</td>\n",
       "    </tr>\n",
       "    <tr>\n",
       "      <th>2427</th>\n",
       "      <td>CN1C=C(C(O)=NC2=CC=CC=C2C2=CC(F)=C(F)C(F)=C2)C...</td>\n",
       "      <td>0</td>\n",
       "      <td>1</td>\n",
       "      <td>0</td>\n",
       "      <td>0</td>\n",
       "      <td>0</td>\n",
       "      <td>0</td>\n",
       "      <td>0</td>\n",
       "      <td>0</td>\n",
       "      <td>0</td>\n",
       "      <td>...</td>\n",
       "      <td>0</td>\n",
       "      <td>0</td>\n",
       "      <td>0</td>\n",
       "      <td>0</td>\n",
       "      <td>0</td>\n",
       "      <td>0</td>\n",
       "      <td>0</td>\n",
       "      <td>0</td>\n",
       "      <td>0</td>\n",
       "      <td>0</td>\n",
       "    </tr>\n",
       "    <tr>\n",
       "      <th>2428</th>\n",
       "      <td>CC(C1C=NC(=CC=1)C(F)(F)F)S(C)(=O)=NC#N</td>\n",
       "      <td>0</td>\n",
       "      <td>1</td>\n",
       "      <td>0</td>\n",
       "      <td>0</td>\n",
       "      <td>0</td>\n",
       "      <td>0</td>\n",
       "      <td>0</td>\n",
       "      <td>0</td>\n",
       "      <td>0</td>\n",
       "      <td>...</td>\n",
       "      <td>0</td>\n",
       "      <td>0</td>\n",
       "      <td>0</td>\n",
       "      <td>0</td>\n",
       "      <td>0</td>\n",
       "      <td>0</td>\n",
       "      <td>0</td>\n",
       "      <td>0</td>\n",
       "      <td>0</td>\n",
       "      <td>0</td>\n",
       "    </tr>\n",
       "    <tr>\n",
       "      <th>2429</th>\n",
       "      <td>CC1C=CC2CC(C)C(NC3N=C(N)N=C(N=3)C(C)F)C=2C=1</td>\n",
       "      <td>0</td>\n",
       "      <td>1</td>\n",
       "      <td>0</td>\n",
       "      <td>1</td>\n",
       "      <td>0</td>\n",
       "      <td>0</td>\n",
       "      <td>0</td>\n",
       "      <td>0</td>\n",
       "      <td>0</td>\n",
       "      <td>...</td>\n",
       "      <td>0</td>\n",
       "      <td>0</td>\n",
       "      <td>0</td>\n",
       "      <td>0</td>\n",
       "      <td>0</td>\n",
       "      <td>3</td>\n",
       "      <td>0</td>\n",
       "      <td>0</td>\n",
       "      <td>0</td>\n",
       "      <td>0</td>\n",
       "    </tr>\n",
       "    <tr>\n",
       "      <th>2430</th>\n",
       "      <td>O=C1C=C(CO1)N(CC1C=NC(Cl)=CC=1)CC(F)F</td>\n",
       "      <td>0</td>\n",
       "      <td>1</td>\n",
       "      <td>0</td>\n",
       "      <td>0</td>\n",
       "      <td>0</td>\n",
       "      <td>0</td>\n",
       "      <td>0</td>\n",
       "      <td>0</td>\n",
       "      <td>0</td>\n",
       "      <td>...</td>\n",
       "      <td>0</td>\n",
       "      <td>0</td>\n",
       "      <td>0</td>\n",
       "      <td>0</td>\n",
       "      <td>0</td>\n",
       "      <td>0</td>\n",
       "      <td>0</td>\n",
       "      <td>0</td>\n",
       "      <td>0</td>\n",
       "      <td>0</td>\n",
       "    </tr>\n",
       "  </tbody>\n",
       "</table>\n",
       "<p>2431 rows × 1025 columns</p>\n",
       "</div>"
      ],
      "text/plain": [
       "                                                 SMILES  fp_0  fp_1  fp_2  \\\n",
       "0                                                   C=O     0     0     0   \n",
       "1     CC1CC2C3CCC4=CC(=O)C=CC4(C)C3(F)C(O)CC2(C)C1(O...     0     0     0   \n",
       "2                     CCC1(C2C=CC=CC=2)C(=O)NC(=O)NC1=O     0     0     0   \n",
       "3                               O=P1(NCCCO1)N(CCCl)CCCl     0     0     0   \n",
       "4                                           CC(O)C(O)=O     0     1     0   \n",
       "...                                                 ...   ...   ...   ...   \n",
       "2426  CC(C)C1C2CCC1C1C(=CC=CC=12)N=C(O)C1=CN(C)N=C1C...     0     2     0   \n",
       "2427  CN1C=C(C(O)=NC2=CC=CC=C2C2=CC(F)=C(F)C(F)=C2)C...     0     1     0   \n",
       "2428             CC(C1C=NC(=CC=1)C(F)(F)F)S(C)(=O)=NC#N     0     1     0   \n",
       "2429       CC1C=CC2CC(C)C(NC3N=C(N)N=C(N=3)C(C)F)C=2C=1     0     1     0   \n",
       "2430              O=C1C=C(CO1)N(CC1C=NC(Cl)=CC=1)CC(F)F     0     1     0   \n",
       "\n",
       "      fp_3  fp_4  fp_5  fp_6  fp_7  fp_8  ...  fp_1014  fp_1015  fp_1016  \\\n",
       "0        0     0     0     0     0     0  ...        0        0        0   \n",
       "1        0     0     0     0     0     0  ...        0        0        0   \n",
       "2        0     0     0     0     0     0  ...        0        0        0   \n",
       "3        0     3     0     0     0     0  ...        0        0        0   \n",
       "4        0     0     0     0     0     0  ...        0        0        0   \n",
       "...    ...   ...   ...   ...   ...   ...  ...      ...      ...      ...   \n",
       "2426     1     0     0     0     0     0  ...        0        0        0   \n",
       "2427     0     0     0     0     0     0  ...        0        0        0   \n",
       "2428     0     0     0     0     0     0  ...        0        0        0   \n",
       "2429     1     0     0     0     0     0  ...        0        0        0   \n",
       "2430     0     0     0     0     0     0  ...        0        0        0   \n",
       "\n",
       "      fp_1017  fp_1018  fp_1019  fp_1020  fp_1021  fp_1022  fp_1023  \n",
       "0           0        0        0        0        0        0        0  \n",
       "1           0        0        4        1        0        0        0  \n",
       "2           0        0        0        0        0        0        0  \n",
       "3           0        0        0        0        0        0        0  \n",
       "4           0        0        0        0        0        0        0  \n",
       "...       ...      ...      ...      ...      ...      ...      ...  \n",
       "2426        0        0        3        0        0        0        0  \n",
       "2427        0        0        0        0        0        0        0  \n",
       "2428        0        0        0        0        0        0        0  \n",
       "2429        0        0        3        0        0        0        0  \n",
       "2430        0        0        0        0        0        0        0  \n",
       "\n",
       "[2431 rows x 1025 columns]"
      ]
     },
     "execution_count": 12,
     "metadata": {},
     "output_type": "execute_result"
    }
   ],
   "source": [
    "fp_columns = ['fp_%d' % i for i in range(1024)]\n",
    "fingerprints = pd.DataFrame.from_dict(fingerprints, orient='index', columns=fp_columns)\n",
    "## Convert to log, then scale to [0,1] (standard, log, z-score, z-score log, ...)\n",
    "#fingerprints = np.log(1+fingerprints)\n",
    "#fingerprints = fingerprints/fingerprints.max()\n",
    "# Add SMILES from index\n",
    "fingerprints = fingerprints.reset_index().rename(columns={'index':'SMILES'})\n",
    "fingerprints"
   ]
  },
  {
   "cell_type": "code",
   "execution_count": 13,
   "id": "f4e98716",
   "metadata": {},
   "outputs": [],
   "source": [
    "fingerprints.to_csv('fingerprints.csv', index=False)"
   ]
  },
  {
   "cell_type": "code",
   "execution_count": 14,
   "id": "895e1aa1",
   "metadata": {},
   "outputs": [
    {
     "name": "stdout",
     "output_type": "stream",
     "text": [
      "52272 / 52272\n"
     ]
    }
   ],
   "source": [
    "# Check that all chemicals have matches\n",
    "print(\"%d / %d\" % (df_tox.shape[0], df_tox.merge(fingerprints, on='SMILES').shape[0]))"
   ]
  },
  {
   "cell_type": "code",
   "execution_count": 15,
   "id": "c8374dff",
   "metadata": {},
   "outputs": [
    {
     "name": "stdout",
     "output_type": "stream",
     "text": [
      "Int64Index([], dtype='int64')\n"
     ]
    }
   ],
   "source": [
    "# Which chemicals are all zero?\n",
    "allzeros = (fingerprints[fp_columns] == 0).all(axis=1)\n",
    "allzeros = allzeros[allzeros].index\n",
    "print(allzeros)"
   ]
  },
  {
   "cell_type": "code",
   "execution_count": 16,
   "id": "c900a7d8",
   "metadata": {},
   "outputs": [
    {
     "name": "stdout",
     "output_type": "stream",
     "text": [
      "Index([], dtype='object')\n"
     ]
    }
   ],
   "source": [
    "# Which fingerprints are all zero?\n",
    "allzeros = (fingerprints[fp_columns] == 0).all(axis=0)\n",
    "allzeros = allzeros[allzeros].index\n",
    "print(allzeros)"
   ]
  },
  {
   "cell_type": "code",
   "execution_count": null,
   "id": "4e419841",
   "metadata": {},
   "outputs": [],
   "source": []
  },
  {
   "cell_type": "code",
   "execution_count": 17,
   "id": "be74ecff",
   "metadata": {},
   "outputs": [],
   "source": [
    "# MACCS fingerprint\n",
    "from rdkit.Chem import MACCSkeys"
   ]
  },
  {
   "cell_type": "code",
   "execution_count": 18,
   "id": "7f94fc25",
   "metadata": {},
   "outputs": [],
   "source": [
    "fingerprints = {}\n",
    "for s in df_tox['SMILES'].unique():\n",
    "    m = Chem.MolFromSmiles(s)\n",
    "    if m is not None:\n",
    "        arr = np.zeros((0,), dtype=np.int8) #count vector\n",
    "        DataStructs.ConvertToNumpyArray(MACCSkeys.GenMACCSKeys(m),arr)\n",
    "        fingerprints[s] = arr\n",
    "    else:\n",
    "        fingerprints[s] = np.zeros(167, dtype=np.int8)"
   ]
  },
  {
   "cell_type": "code",
   "execution_count": 19,
   "id": "0b02776b",
   "metadata": {},
   "outputs": [
    {
     "data": {
      "text/html": [
       "<div>\n",
       "<style scoped>\n",
       "    .dataframe tbody tr th:only-of-type {\n",
       "        vertical-align: middle;\n",
       "    }\n",
       "\n",
       "    .dataframe tbody tr th {\n",
       "        vertical-align: top;\n",
       "    }\n",
       "\n",
       "    .dataframe thead th {\n",
       "        text-align: right;\n",
       "    }\n",
       "</style>\n",
       "<table border=\"1\" class=\"dataframe\">\n",
       "  <thead>\n",
       "    <tr style=\"text-align: right;\">\n",
       "      <th></th>\n",
       "      <th>SMILES</th>\n",
       "      <th>fp_0</th>\n",
       "      <th>fp_1</th>\n",
       "      <th>fp_2</th>\n",
       "      <th>fp_3</th>\n",
       "      <th>fp_4</th>\n",
       "      <th>fp_5</th>\n",
       "      <th>fp_6</th>\n",
       "      <th>fp_7</th>\n",
       "      <th>fp_8</th>\n",
       "      <th>...</th>\n",
       "      <th>fp_157</th>\n",
       "      <th>fp_158</th>\n",
       "      <th>fp_159</th>\n",
       "      <th>fp_160</th>\n",
       "      <th>fp_161</th>\n",
       "      <th>fp_162</th>\n",
       "      <th>fp_163</th>\n",
       "      <th>fp_164</th>\n",
       "      <th>fp_165</th>\n",
       "      <th>fp_166</th>\n",
       "    </tr>\n",
       "  </thead>\n",
       "  <tbody>\n",
       "    <tr>\n",
       "      <th>0</th>\n",
       "      <td>C=O</td>\n",
       "      <td>0</td>\n",
       "      <td>0</td>\n",
       "      <td>0</td>\n",
       "      <td>0</td>\n",
       "      <td>0</td>\n",
       "      <td>0</td>\n",
       "      <td>0</td>\n",
       "      <td>0</td>\n",
       "      <td>0</td>\n",
       "      <td>...</td>\n",
       "      <td>0</td>\n",
       "      <td>0</td>\n",
       "      <td>0</td>\n",
       "      <td>0</td>\n",
       "      <td>0</td>\n",
       "      <td>0</td>\n",
       "      <td>0</td>\n",
       "      <td>1</td>\n",
       "      <td>0</td>\n",
       "      <td>0</td>\n",
       "    </tr>\n",
       "    <tr>\n",
       "      <th>1</th>\n",
       "      <td>CC1CC2C3CCC4=CC(=O)C=CC4(C)C3(F)C(O)CC2(C)C1(O...</td>\n",
       "      <td>0</td>\n",
       "      <td>0</td>\n",
       "      <td>0</td>\n",
       "      <td>0</td>\n",
       "      <td>0</td>\n",
       "      <td>0</td>\n",
       "      <td>0</td>\n",
       "      <td>0</td>\n",
       "      <td>0</td>\n",
       "      <td>...</td>\n",
       "      <td>1</td>\n",
       "      <td>0</td>\n",
       "      <td>1</td>\n",
       "      <td>1</td>\n",
       "      <td>0</td>\n",
       "      <td>0</td>\n",
       "      <td>1</td>\n",
       "      <td>1</td>\n",
       "      <td>1</td>\n",
       "      <td>0</td>\n",
       "    </tr>\n",
       "    <tr>\n",
       "      <th>2</th>\n",
       "      <td>CCC1(C2C=CC=CC=2)C(=O)NC(=O)NC1=O</td>\n",
       "      <td>0</td>\n",
       "      <td>0</td>\n",
       "      <td>0</td>\n",
       "      <td>0</td>\n",
       "      <td>0</td>\n",
       "      <td>0</td>\n",
       "      <td>0</td>\n",
       "      <td>0</td>\n",
       "      <td>0</td>\n",
       "      <td>...</td>\n",
       "      <td>0</td>\n",
       "      <td>1</td>\n",
       "      <td>1</td>\n",
       "      <td>1</td>\n",
       "      <td>1</td>\n",
       "      <td>1</td>\n",
       "      <td>1</td>\n",
       "      <td>1</td>\n",
       "      <td>1</td>\n",
       "      <td>0</td>\n",
       "    </tr>\n",
       "    <tr>\n",
       "      <th>3</th>\n",
       "      <td>O=P1(NCCCO1)N(CCCl)CCCl</td>\n",
       "      <td>0</td>\n",
       "      <td>0</td>\n",
       "      <td>0</td>\n",
       "      <td>0</td>\n",
       "      <td>0</td>\n",
       "      <td>0</td>\n",
       "      <td>0</td>\n",
       "      <td>0</td>\n",
       "      <td>0</td>\n",
       "      <td>...</td>\n",
       "      <td>1</td>\n",
       "      <td>1</td>\n",
       "      <td>1</td>\n",
       "      <td>0</td>\n",
       "      <td>1</td>\n",
       "      <td>0</td>\n",
       "      <td>1</td>\n",
       "      <td>1</td>\n",
       "      <td>1</td>\n",
       "      <td>0</td>\n",
       "    </tr>\n",
       "    <tr>\n",
       "      <th>4</th>\n",
       "      <td>CC(O)C(O)=O</td>\n",
       "      <td>0</td>\n",
       "      <td>0</td>\n",
       "      <td>0</td>\n",
       "      <td>0</td>\n",
       "      <td>0</td>\n",
       "      <td>0</td>\n",
       "      <td>0</td>\n",
       "      <td>0</td>\n",
       "      <td>0</td>\n",
       "      <td>...</td>\n",
       "      <td>1</td>\n",
       "      <td>0</td>\n",
       "      <td>1</td>\n",
       "      <td>1</td>\n",
       "      <td>0</td>\n",
       "      <td>0</td>\n",
       "      <td>0</td>\n",
       "      <td>1</td>\n",
       "      <td>0</td>\n",
       "      <td>0</td>\n",
       "    </tr>\n",
       "    <tr>\n",
       "      <th>...</th>\n",
       "      <td>...</td>\n",
       "      <td>...</td>\n",
       "      <td>...</td>\n",
       "      <td>...</td>\n",
       "      <td>...</td>\n",
       "      <td>...</td>\n",
       "      <td>...</td>\n",
       "      <td>...</td>\n",
       "      <td>...</td>\n",
       "      <td>...</td>\n",
       "      <td>...</td>\n",
       "      <td>...</td>\n",
       "      <td>...</td>\n",
       "      <td>...</td>\n",
       "      <td>...</td>\n",
       "      <td>...</td>\n",
       "      <td>...</td>\n",
       "      <td>...</td>\n",
       "      <td>...</td>\n",
       "      <td>...</td>\n",
       "      <td>...</td>\n",
       "    </tr>\n",
       "    <tr>\n",
       "      <th>2426</th>\n",
       "      <td>CC(C)C1C2CCC1C1C(=CC=CC=12)N=C(O)C1=CN(C)N=C1C...</td>\n",
       "      <td>0</td>\n",
       "      <td>0</td>\n",
       "      <td>0</td>\n",
       "      <td>0</td>\n",
       "      <td>0</td>\n",
       "      <td>0</td>\n",
       "      <td>0</td>\n",
       "      <td>0</td>\n",
       "      <td>0</td>\n",
       "      <td>...</td>\n",
       "      <td>1</td>\n",
       "      <td>1</td>\n",
       "      <td>0</td>\n",
       "      <td>1</td>\n",
       "      <td>1</td>\n",
       "      <td>1</td>\n",
       "      <td>1</td>\n",
       "      <td>1</td>\n",
       "      <td>1</td>\n",
       "      <td>0</td>\n",
       "    </tr>\n",
       "    <tr>\n",
       "      <th>2427</th>\n",
       "      <td>CN1C=C(C(O)=NC2=CC=CC=C2C2=CC(F)=C(F)C(F)=C2)C...</td>\n",
       "      <td>0</td>\n",
       "      <td>0</td>\n",
       "      <td>0</td>\n",
       "      <td>0</td>\n",
       "      <td>0</td>\n",
       "      <td>0</td>\n",
       "      <td>0</td>\n",
       "      <td>0</td>\n",
       "      <td>0</td>\n",
       "      <td>...</td>\n",
       "      <td>1</td>\n",
       "      <td>1</td>\n",
       "      <td>0</td>\n",
       "      <td>1</td>\n",
       "      <td>1</td>\n",
       "      <td>1</td>\n",
       "      <td>1</td>\n",
       "      <td>1</td>\n",
       "      <td>1</td>\n",
       "      <td>0</td>\n",
       "    </tr>\n",
       "    <tr>\n",
       "      <th>2428</th>\n",
       "      <td>CC(C1C=NC(=CC=1)C(F)(F)F)S(C)(=O)=NC#N</td>\n",
       "      <td>0</td>\n",
       "      <td>0</td>\n",
       "      <td>0</td>\n",
       "      <td>0</td>\n",
       "      <td>0</td>\n",
       "      <td>0</td>\n",
       "      <td>0</td>\n",
       "      <td>0</td>\n",
       "      <td>0</td>\n",
       "      <td>...</td>\n",
       "      <td>0</td>\n",
       "      <td>1</td>\n",
       "      <td>0</td>\n",
       "      <td>1</td>\n",
       "      <td>1</td>\n",
       "      <td>1</td>\n",
       "      <td>1</td>\n",
       "      <td>1</td>\n",
       "      <td>1</td>\n",
       "      <td>0</td>\n",
       "    </tr>\n",
       "    <tr>\n",
       "      <th>2429</th>\n",
       "      <td>CC1C=CC2CC(C)C(NC3N=C(N)N=C(N=3)C(C)F)C=2C=1</td>\n",
       "      <td>0</td>\n",
       "      <td>0</td>\n",
       "      <td>0</td>\n",
       "      <td>0</td>\n",
       "      <td>0</td>\n",
       "      <td>0</td>\n",
       "      <td>0</td>\n",
       "      <td>0</td>\n",
       "      <td>0</td>\n",
       "      <td>...</td>\n",
       "      <td>0</td>\n",
       "      <td>1</td>\n",
       "      <td>0</td>\n",
       "      <td>1</td>\n",
       "      <td>1</td>\n",
       "      <td>1</td>\n",
       "      <td>1</td>\n",
       "      <td>0</td>\n",
       "      <td>1</td>\n",
       "      <td>0</td>\n",
       "    </tr>\n",
       "    <tr>\n",
       "      <th>2430</th>\n",
       "      <td>O=C1C=C(CO1)N(CC1C=NC(Cl)=CC=1)CC(F)F</td>\n",
       "      <td>0</td>\n",
       "      <td>0</td>\n",
       "      <td>0</td>\n",
       "      <td>0</td>\n",
       "      <td>0</td>\n",
       "      <td>0</td>\n",
       "      <td>0</td>\n",
       "      <td>0</td>\n",
       "      <td>0</td>\n",
       "      <td>...</td>\n",
       "      <td>1</td>\n",
       "      <td>1</td>\n",
       "      <td>1</td>\n",
       "      <td>0</td>\n",
       "      <td>1</td>\n",
       "      <td>1</td>\n",
       "      <td>1</td>\n",
       "      <td>1</td>\n",
       "      <td>1</td>\n",
       "      <td>0</td>\n",
       "    </tr>\n",
       "  </tbody>\n",
       "</table>\n",
       "<p>2431 rows × 168 columns</p>\n",
       "</div>"
      ],
      "text/plain": [
       "                                                 SMILES  fp_0  fp_1  fp_2  \\\n",
       "0                                                   C=O     0     0     0   \n",
       "1     CC1CC2C3CCC4=CC(=O)C=CC4(C)C3(F)C(O)CC2(C)C1(O...     0     0     0   \n",
       "2                     CCC1(C2C=CC=CC=2)C(=O)NC(=O)NC1=O     0     0     0   \n",
       "3                               O=P1(NCCCO1)N(CCCl)CCCl     0     0     0   \n",
       "4                                           CC(O)C(O)=O     0     0     0   \n",
       "...                                                 ...   ...   ...   ...   \n",
       "2426  CC(C)C1C2CCC1C1C(=CC=CC=12)N=C(O)C1=CN(C)N=C1C...     0     0     0   \n",
       "2427  CN1C=C(C(O)=NC2=CC=CC=C2C2=CC(F)=C(F)C(F)=C2)C...     0     0     0   \n",
       "2428             CC(C1C=NC(=CC=1)C(F)(F)F)S(C)(=O)=NC#N     0     0     0   \n",
       "2429       CC1C=CC2CC(C)C(NC3N=C(N)N=C(N=3)C(C)F)C=2C=1     0     0     0   \n",
       "2430              O=C1C=C(CO1)N(CC1C=NC(Cl)=CC=1)CC(F)F     0     0     0   \n",
       "\n",
       "      fp_3  fp_4  fp_5  fp_6  fp_7  fp_8  ...  fp_157  fp_158  fp_159  fp_160  \\\n",
       "0        0     0     0     0     0     0  ...       0       0       0       0   \n",
       "1        0     0     0     0     0     0  ...       1       0       1       1   \n",
       "2        0     0     0     0     0     0  ...       0       1       1       1   \n",
       "3        0     0     0     0     0     0  ...       1       1       1       0   \n",
       "4        0     0     0     0     0     0  ...       1       0       1       1   \n",
       "...    ...   ...   ...   ...   ...   ...  ...     ...     ...     ...     ...   \n",
       "2426     0     0     0     0     0     0  ...       1       1       0       1   \n",
       "2427     0     0     0     0     0     0  ...       1       1       0       1   \n",
       "2428     0     0     0     0     0     0  ...       0       1       0       1   \n",
       "2429     0     0     0     0     0     0  ...       0       1       0       1   \n",
       "2430     0     0     0     0     0     0  ...       1       1       1       0   \n",
       "\n",
       "      fp_161  fp_162  fp_163  fp_164  fp_165  fp_166  \n",
       "0          0       0       0       1       0       0  \n",
       "1          0       0       1       1       1       0  \n",
       "2          1       1       1       1       1       0  \n",
       "3          1       0       1       1       1       0  \n",
       "4          0       0       0       1       0       0  \n",
       "...      ...     ...     ...     ...     ...     ...  \n",
       "2426       1       1       1       1       1       0  \n",
       "2427       1       1       1       1       1       0  \n",
       "2428       1       1       1       1       1       0  \n",
       "2429       1       1       1       0       1       0  \n",
       "2430       1       1       1       1       1       0  \n",
       "\n",
       "[2431 rows x 168 columns]"
      ]
     },
     "execution_count": 19,
     "metadata": {},
     "output_type": "execute_result"
    }
   ],
   "source": [
    "fp_columns = ['fp_%d' % i for i in range(167)]\n",
    "fingerprints = pd.DataFrame.from_dict(fingerprints, orient='index', columns=fp_columns)\n",
    "## Convert to log, then scale to [0,1] (standard, log, z-score, z-score log, ...)\n",
    "#fingerprints = np.log(1+fingerprints)\n",
    "#fingerprints = fingerprints/fingerprints.max()\n",
    "# Add SMILES from index\n",
    "fingerprints = fingerprints.reset_index().rename(columns={'index':'SMILES'})\n",
    "fingerprints"
   ]
  },
  {
   "cell_type": "code",
   "execution_count": 20,
   "id": "e56b5d94",
   "metadata": {},
   "outputs": [],
   "source": [
    "fingerprints.to_csv('fingerprints2.csv', index=False)"
   ]
  },
  {
   "cell_type": "code",
   "execution_count": 21,
   "id": "75c2e5ea",
   "metadata": {},
   "outputs": [
    {
     "name": "stdout",
     "output_type": "stream",
     "text": [
      "52272 / 52272\n"
     ]
    }
   ],
   "source": [
    "# Check that all chemicals have matches\n",
    "print(\"%d / %d\" % (df_tox.shape[0], df_tox.merge(fingerprints, on='SMILES').shape[0]))"
   ]
  },
  {
   "cell_type": "code",
   "execution_count": 22,
   "id": "6f531ac8",
   "metadata": {},
   "outputs": [
    {
     "name": "stdout",
     "output_type": "stream",
     "text": [
      "Int64Index([], dtype='int64')\n"
     ]
    }
   ],
   "source": [
    "# Which chemicals are all zero?\n",
    "allzeros = (fingerprints[fp_columns] == 0).all(axis=1)\n",
    "allzeros = allzeros[allzeros].index\n",
    "print(allzeros)"
   ]
  },
  {
   "cell_type": "code",
   "execution_count": 23,
   "id": "f70ee0d1",
   "metadata": {},
   "outputs": [
    {
     "name": "stdout",
     "output_type": "stream",
     "text": [
      "Index(['fp_0', 'fp_1', 'fp_2', 'fp_3', 'fp_4', 'fp_5', 'fp_6', 'fp_7', 'fp_9',\n",
      "       'fp_10', 'fp_12', 'fp_35', 'fp_166'],\n",
      "      dtype='object')\n"
     ]
    }
   ],
   "source": [
    "# Which fingerprints are all zero?\n",
    "allzeros = (fingerprints[fp_columns] == 0).all(axis=0)\n",
    "allzeros = allzeros[allzeros].index\n",
    "print(allzeros)"
   ]
  },
  {
   "cell_type": "code",
   "execution_count": null,
   "id": "c8233545",
   "metadata": {},
   "outputs": [],
   "source": []
  },
  {
   "cell_type": "code",
   "execution_count": null,
   "id": "5042435c",
   "metadata": {},
   "outputs": [],
   "source": []
  },
  {
   "cell_type": "markdown",
   "id": "a6abe988",
   "metadata": {},
   "source": [
    "### Add train/test identifier"
   ]
  },
  {
   "cell_type": "code",
   "execution_count": 24,
   "id": "3db9f483",
   "metadata": {},
   "outputs": [],
   "source": [
    "# Shuffle data set, it is possible data set order reveals something about species or chemicals...\n",
    "df_tox = df_tox.sample(frac=1, random_state=42).reset_index(drop=True)"
   ]
  },
  {
   "cell_type": "code",
   "execution_count": 25,
   "id": "97117d09",
   "metadata": {},
   "outputs": [],
   "source": [
    "drugs = df_tox['SMILES'].astype('category').cat.codes.values\n",
    "species = df_tox['Species'].astype('category').cat.codes.values\n",
    "duration = df_tox['Duration_Value'].astype(int)\n",
    "experiments = (df_tox['SMILES'].astype('str') + ' X ' + \n",
    "               df_tox['Species'].astype('str')).astype('category').cat.codes.values"
   ]
  },
  {
   "cell_type": "code",
   "execution_count": 26,
   "id": "23faf332",
   "metadata": {},
   "outputs": [],
   "source": [
    "ncv  = 5"
   ]
  },
  {
   "cell_type": "code",
   "execution_count": 27,
   "id": "99c87206",
   "metadata": {},
   "outputs": [],
   "source": [
    "from sklearn.model_selection import GroupKFold"
   ]
  },
  {
   "cell_type": "code",
   "execution_count": 28,
   "id": "eb2c16db",
   "metadata": {},
   "outputs": [],
   "source": [
    "class LeaveGroupsOut:\n",
    "    \n",
    "    def __init__(self, n_splits, groups):\n",
    "        self.cv = GroupKFold(n_splits=n_splits)\n",
    "        self.groups = groups\n",
    "        \n",
    "    def split(self, X, y=None, groups=None):\n",
    "        for train, test in self.cv.split(X,y, groups=self.groups):\n",
    "            yield train, test"
   ]
  },
  {
   "cell_type": "code",
   "execution_count": 29,
   "id": "c44c5fef",
   "metadata": {},
   "outputs": [],
   "source": [
    "index = np.arange(df_tox.shape[0])\n",
    "df_tox['index'] = index"
   ]
  },
  {
   "cell_type": "code",
   "execution_count": 30,
   "id": "231f75a5",
   "metadata": {},
   "outputs": [],
   "source": [
    "cv = LeaveGroupsOut(n_splits=ncv, groups=experiments).split(df_tox)\n",
    "train, test = next(cv)\n",
    "df_tox[\"setting1_test\"] = np.where(np.isin(index, test), True, False)"
   ]
  },
  {
   "cell_type": "code",
   "execution_count": 31,
   "id": "e5c1d4f2",
   "metadata": {},
   "outputs": [],
   "source": [
    "cv = LeaveGroupsOut(n_splits=ncv, groups=drugs).split(df_tox)\n",
    "train, test = next(cv)\n",
    "df_tox[\"setting2_test\"] = np.where(np.isin(index, test), True, False)"
   ]
  },
  {
   "cell_type": "markdown",
   "id": "d708fccf",
   "metadata": {},
   "source": [
    "### Add cross validation identifier"
   ]
  },
  {
   "cell_type": "code",
   "execution_count": 32,
   "id": "f79c62cb",
   "metadata": {},
   "outputs": [],
   "source": [
    "ncv  = 5"
   ]
  },
  {
   "cell_type": "code",
   "execution_count": 33,
   "id": "6a4a792b",
   "metadata": {},
   "outputs": [],
   "source": [
    "cv = LeaveGroupsOut(n_splits=ncv, groups=experiments)\n",
    "for i, (train, test) in enumerate(cv.split(df_tox)):\n",
    "    df_tox[\"setting1_test{fold}\".format(fold=i+1)] = np.where(np.isin(index, test), True, False)"
   ]
  },
  {
   "cell_type": "code",
   "execution_count": 34,
   "id": "e614be47",
   "metadata": {},
   "outputs": [],
   "source": [
    "cv = LeaveGroupsOut(n_splits=ncv, groups=drugs)\n",
    "for i, (train, test) in enumerate(cv.split(df_tox)):\n",
    "    df_tox[\"setting2_test{fold}\".format(fold=i+1)] = np.where(np.isin(index, test), True, False)"
   ]
  },
  {
   "cell_type": "markdown",
   "id": "db1b0ee2",
   "metadata": {},
   "source": [
    "### Save"
   ]
  },
  {
   "cell_type": "code",
   "execution_count": 35,
   "id": "3dae0685",
   "metadata": {},
   "outputs": [],
   "source": [
    "df_tox.to_csv('df_tox.csv', index=False)"
   ]
  },
  {
   "cell_type": "code",
   "execution_count": 36,
   "id": "e971faf8",
   "metadata": {},
   "outputs": [
    {
     "data": {
      "text/plain": [
       "((52272, 21), (1506,), (2431,))"
      ]
     },
     "execution_count": 36,
     "metadata": {},
     "output_type": "execute_result"
    }
   ],
   "source": [
    "df_tox.shape, df_tox['Species'].unique().shape, df_tox['SMILES'].unique().shape"
   ]
  },
  {
   "cell_type": "code",
   "execution_count": 37,
   "id": "8f26f4f6",
   "metadata": {},
   "outputs": [
    {
     "data": {
      "text/plain": [
       "3661086"
      ]
     },
     "execution_count": 37,
     "metadata": {},
     "output_type": "execute_result"
    }
   ],
   "source": [
    "1506*2431"
   ]
  },
  {
   "cell_type": "code",
   "execution_count": null,
   "id": "0846c219",
   "metadata": {},
   "outputs": [],
   "source": []
  },
  {
   "cell_type": "code",
   "execution_count": null,
   "id": "ca2dc108",
   "metadata": {},
   "outputs": [],
   "source": []
  },
  {
   "cell_type": "code",
   "execution_count": null,
   "id": "0c41b02e",
   "metadata": {},
   "outputs": [],
   "source": []
  }
 ],
 "metadata": {
  "kernelspec": {
   "display_name": "Python 3 (ipykernel)",
   "language": "python",
   "name": "python3"
  },
  "language_info": {
   "codemirror_mode": {
    "name": "ipython",
    "version": 3
   },
   "file_extension": ".py",
   "mimetype": "text/x-python",
   "name": "python",
   "nbconvert_exporter": "python",
   "pygments_lexer": "ipython3",
   "version": "3.9.12"
  }
 },
 "nbformat": 4,
 "nbformat_minor": 5
}
